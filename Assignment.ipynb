{
  "nbformat": 4,
  "nbformat_minor": 0,
  "metadata": {
    "colab": {
      "provenance": [],
      "authorship_tag": "ABX9TyPv7TzLernncgxjNwlWXm6/",
      "include_colab_link": true
    },
    "kernelspec": {
      "name": "python3",
      "display_name": "Python 3"
    },
    "language_info": {
      "name": "python"
    }
  },
  "cells": [
    {
      "cell_type": "markdown",
      "metadata": {
        "id": "view-in-github",
        "colab_type": "text"
      },
      "source": [
        "<a href=\"https://colab.research.google.com/github/chavanamol4402/Assignment/blob/main/Assignment.ipynb\" target=\"_parent\"><img src=\"https://colab.research.google.com/assets/colab-badge.svg\" alt=\"Open In Colab\"/></a>"
      ]
    },
    {
      "cell_type": "code",
      "execution_count": null,
      "metadata": {
        "id": "3HTduW3ehOil"
      },
      "outputs": [],
      "source": [
        "pip install -U assemblyai"
      ]
    },
    {
      "cell_type": "code",
      "source": [
        "import assemblyai as aai\n",
        "\n",
        "aai.settings.api_key = \"5fb20fd1996e458eac34d38a68caae19\"\n",
        "\n",
        "transcriber = aai.Transcriber()\n",
        "\n",
        "\n",
        "transcript = transcriber.transcribe(\"/content/sales_call_telephone_marketers.wav\")"
      ],
      "metadata": {
        "id": "zMhvXDophaFW"
      },
      "execution_count": 30,
      "outputs": []
    },
    {
      "cell_type": "code",
      "source": [
        "print(transcript.text)"
      ],
      "metadata": {
        "colab": {
          "base_uri": "https://localhost:8080/"
        },
        "id": "WHBiwnEEhalu",
        "outputId": "8e80ade4-3e0b-4149-d6ac-8c7e21c93665"
      },
      "execution_count": 31,
      "outputs": [
        {
          "output_type": "stream",
          "name": "stdout",
          "text": [
            "Hello? Hi, Nancy. This is Mike from at and T, Inc. Yes, how can I help you? Nancy, you have been using our prepaid connection for a couple of years now, right? Yeah, that's right. How would you like a postpaid connection that allows you to make free, unlimited voice calls to three at and T numbers? I would love that, but what's the catch? There's no catch. There will be a monthly rental which you will have to pay like any other postpaid connection. Fantastic. Sign me up.\n"
          ]
        }
      ]
    },
    {
      "cell_type": "code",
      "source": [
        "trans_text= transcript.text"
      ],
      "metadata": {
        "id": "min0movohawW"
      },
      "execution_count": 32,
      "outputs": []
    },
    {
      "cell_type": "code",
      "source": [
        "import spacy\n",
        "import random\n",
        "from spacy.training import Example\n",
        "\n",
        "\n",
        "TRAINING_DATA = [\n",
        "    (\"This is a call from Apple, and my name is Tim Cook.\", {\"entities\": [(20, 26, \"ORG\"), (42, 51, \"caller_name\")]}),\n",
        "    (\"I am calling on behalf of IBM, and I am John Smith.\", {\"entities\": [(26, 30, \"ORG\"), (40, 51, \"caller_name\")]}),\n",
        "    (\"Hello, this is Mark Zuckerberg calling from Facebook.\", {\"entities\": [(15, 31, \"caller_name\"), (44, 53, \"ORG\")]}),\n",
        "    (\"I am calling about your Amazon Prime membership.\", {\"entities\": [(23, 48, \"PRODUCT\")]}),\n",
        "    (\"This call is regarding your Netflix subscription.\",  {\"entities\": [(27, 49, \"PRODUCT\")]}),\n",
        "    (\"I am Lisa, calling from Tesla Motors.\", {\"entities\": [(5, 10, \"caller_name\"), (24, 37, \"ORG\")]}),\n",
        "    (\"This is Mike from at and T, Inc.\", {\"entities\": [(18, 32, \"ORG\"), (8, 13, \"caller_name\")]}),\n",
        "    (\"I am calling on behalf of T-Mobile, and my name is Sarah.\", {\"entities\": [(26, 35, \"ORG\"), (51, 57, \"caller_name\")]}),\n",
        "    (\"This call is regarding your prepaid connection.\",  {\"entities\": [(28, 47, \"PRODUCT\")]}),\n",
        "    (\"This call is regarding your postpaid connection.\",  {\"entities\": [(28, 48, \"PRODUCT\")]}),\n",
        "    (\"This call is regarding your Microsoft Office subscription.\", {\"entities\": [(28, 58, \"PRODUCT\")]}),\n",
        "    (\"I am John, calling from Oracle Corporation.\", {\"entities\": [(5, 10, \"caller_name\"), (24, 43, \"ORG\")]}),\n",
        "    (\"This is a call from Cisco Systems, and I am Alex.\", {\"entities\": [(24, 34, \"ORG\"), (44, 49, \"caller_name\")]}),\n",
        "    (\"I am calling on behalf of at and T, Inc, and my name is Mike.\", {\"entities\": [(26, 40, \"ORG\"), (56, 61, \"caller_name\")]}),\n",
        "    (\"Hello, this is Larry Page calling from Google.\", {\"entities\": [(15, 26, \"caller_name\"), (39, 46, \"ORG\")]}),\n",
        "    (\"Hello, this is Nancy Page calling from at & T.\", {\"entities\": [(15, 21, \"caller_name\"), (39, 46, \"ORG\")]}),\n",
        "    \n",
        "]\n"
      ],
      "metadata": {
        "id": "FgLwDBV6ha6H"
      },
      "execution_count": 33,
      "outputs": []
    },
    {
      "cell_type": "code",
      "source": [
        "LABELS = [\"caller_name\", \"ORG\", \"PRODUCT\"]"
      ],
      "metadata": {
        "id": "xNvpjJ80hbEO"
      },
      "execution_count": 34,
      "outputs": []
    },
    {
      "cell_type": "code",
      "source": [
        "import random\n",
        "\n",
        "\n",
        "def train_ner_model(training_data, labels, iterations=30):\n",
        "    nlp = spacy.blank(\"en\")\n",
        "\n",
        "    if \"ner\" not in nlp.pipe_names:\n",
        "        ner = nlp.add_pipe(\"ner\")\n",
        "    else:\n",
        "        ner = nlp.get_pipe(\"ner\")\n",
        "\n",
        "    for label in labels:\n",
        "        ner.add_label(label)\n",
        "\n",
        "    other_pipes = [pipe for pipe in nlp.pipe_names if pipe != \"ner\"]\n",
        "    with nlp.disable_pipes(*other_pipes):\n",
        "        optimizer = nlp.initialize()\n",
        "\n",
        "        for _ in range(iterations):\n",
        "            random.shuffle(training_data)\n",
        "            losses = {}\n",
        "            for text, annotations in training_data:\n",
        "                doc = nlp.make_doc(text)\n",
        "                example = Example.from_dict(doc, annotations)\n",
        "                nlp.update([example], drop=0.5, sgd=optimizer, losses=losses)\n",
        "\n",
        "    output_dir = \"/content/trained_ner_model\"  # Change this path as needed\n",
        "    nlp.to_disk(output_dir)"
      ],
      "metadata": {
        "id": "T6aIF03PhbM7"
      },
      "execution_count": 35,
      "outputs": []
    },
    {
      "cell_type": "code",
      "source": [
        "train_ner_model(TRAINING_DATA, LABELS)"
      ],
      "metadata": {
        "colab": {
          "base_uri": "https://localhost:8080/"
        },
        "id": "FbZlzX8IhbVP",
        "outputId": "078f95b2-3c4e-4791-cb32-b25a4d9db666"
      },
      "execution_count": 36,
      "outputs": [
        {
          "output_type": "stream",
          "name": "stderr",
          "text": [
            "/usr/local/lib/python3.10/dist-packages/spacy/training/iob_utils.py:149: UserWarning: [W030] Some entities could not be aligned in the text \"I am calling about your Amazon Prime membership.\" with entities \"[(23, 48, 'PRODUCT')]\". Use `spacy.training.offsets_to_biluo_tags(nlp.make_doc(text), entities)` to check the alignment. Misaligned entities ('-') will be ignored during training.\n",
            "  warnings.warn(\n",
            "/usr/local/lib/python3.10/dist-packages/spacy/training/iob_utils.py:149: UserWarning: [W030] Some entities could not be aligned in the text \"This call is regarding your Netflix subscription.\" with entities \"[(27, 49, 'PRODUCT')]\". Use `spacy.training.offsets_to_biluo_tags(nlp.make_doc(text), entities)` to check the alignment. Misaligned entities ('-') will be ignored during training.\n",
            "  warnings.warn(\n",
            "/usr/local/lib/python3.10/dist-packages/spacy/training/iob_utils.py:149: UserWarning: [W030] Some entities could not be aligned in the text \"This is a call from Cisco Systems, and I am Alex.\" with entities \"[(24, 34, 'ORG'), (44, 49, 'caller_name')]\". Use `spacy.training.offsets_to_biluo_tags(nlp.make_doc(text), entities)` to check the alignment. Misaligned entities ('-') will be ignored during training.\n",
            "  warnings.warn(\n",
            "/usr/local/lib/python3.10/dist-packages/spacy/training/iob_utils.py:149: UserWarning: [W030] Some entities could not be aligned in the text \"Hello, this is Larry Page calling from Google.\" with entities \"[(15, 26, 'caller_name'), (39, 46, 'ORG')]\". Use `spacy.training.offsets_to_biluo_tags(nlp.make_doc(text), entities)` to check the alignment. Misaligned entities ('-') will be ignored during training.\n",
            "  warnings.warn(\n",
            "/usr/local/lib/python3.10/dist-packages/spacy/training/iob_utils.py:149: UserWarning: [W030] Some entities could not be aligned in the text \"Hello, this is Mark Zuckerberg calling from Facebo...\" with entities \"[(15, 31, 'caller_name'), (44, 53, 'ORG')]\". Use `spacy.training.offsets_to_biluo_tags(nlp.make_doc(text), entities)` to check the alignment. Misaligned entities ('-') will be ignored during training.\n",
            "  warnings.warn(\n",
            "/usr/local/lib/python3.10/dist-packages/spacy/training/iob_utils.py:149: UserWarning: [W030] Some entities could not be aligned in the text \"This is Mike from at and T, Inc.\" with entities \"[(18, 32, 'ORG'), (8, 13, 'caller_name')]\". Use `spacy.training.offsets_to_biluo_tags(nlp.make_doc(text), entities)` to check the alignment. Misaligned entities ('-') will be ignored during training.\n",
            "  warnings.warn(\n",
            "/usr/local/lib/python3.10/dist-packages/spacy/training/iob_utils.py:149: UserWarning: [W030] Some entities could not be aligned in the text \"Hello, this is Nancy Page calling from at & T.\" with entities \"[(15, 21, 'caller_name'), (39, 46, 'ORG')]\". Use `spacy.training.offsets_to_biluo_tags(nlp.make_doc(text), entities)` to check the alignment. Misaligned entities ('-') will be ignored during training.\n",
            "  warnings.warn(\n"
          ]
        }
      ]
    },
    {
      "cell_type": "code",
      "source": [
        "nlp = spacy.load(\"trained_ner_model\")"
      ],
      "metadata": {
        "id": "nDtAXWfzkiad"
      },
      "execution_count": 37,
      "outputs": []
    },
    {
      "cell_type": "code",
      "source": [
        "doc = nlp(trans_text)"
      ],
      "metadata": {
        "id": "FmECCGHrkiod"
      },
      "execution_count": 38,
      "outputs": []
    },
    {
      "cell_type": "code",
      "source": [
        "for ent in doc.ents:\n",
        "    print(ent.text, ent.label_)"
      ],
      "metadata": {
        "colab": {
          "base_uri": "https://localhost:8080/"
        },
        "id": "b57k6jVtkizi",
        "outputId": "b83ec653-2551-4f45-c4ff-b48c1b8ecc83"
      },
      "execution_count": 39,
      "outputs": [
        {
          "output_type": "stream",
          "name": "stdout",
          "text": [
            "Nancy. ORG\n",
            "at and T, Inc. ORG\n",
            "Yes, caller_name\n",
            "Nancy, ORG\n",
            "prepaid connection for PRODUCT\n",
            "postpaid connection that PRODUCT\n",
            "at and T numbers? I ORG\n",
            "There's ORG\n",
            "There will ORG\n",
            "pay like caller_name\n",
            "postpaid connection. PRODUCT\n",
            "Fantastic. caller_name\n",
            "up. caller_name\n"
          ]
        }
      ]
    },
    {
      "cell_type": "code",
      "source": [
        "import re\n",
        "sentences = re.split(r'(?<=[.?!])\\s+', trans_text)\n",
        "sentences"
      ],
      "metadata": {
        "colab": {
          "base_uri": "https://localhost:8080/"
        },
        "id": "QZ4S3g6FWC-Q",
        "outputId": "7d3f88ab-5428-4fb6-9fd7-d274658cf219"
      },
      "execution_count": 40,
      "outputs": [
        {
          "output_type": "execute_result",
          "data": {
            "text/plain": [
              "['Hello?',\n",
              " 'Hi, Nancy.',\n",
              " 'This is Mike from at and T, Inc.',\n",
              " 'Yes, how can I help you?',\n",
              " 'Nancy, you have been using our prepaid connection for a couple of years now, right?',\n",
              " \"Yeah, that's right.\",\n",
              " 'How would you like a postpaid connection that allows you to make free, unlimited voice calls to three at and T numbers?',\n",
              " \"I would love that, but what's the catch?\",\n",
              " \"There's no catch.\",\n",
              " 'There will be a monthly rental which you will have to pay like any other postpaid connection.',\n",
              " 'Fantastic.',\n",
              " 'Sign me up.']"
            ]
          },
          "metadata": {},
          "execution_count": 40
        }
      ]
    },
    {
      "cell_type": "code",
      "source": [
        "task_3_output = []\n",
        "for sentence in sentences:\n",
        "    doc = nlp(sentence)\n",
        "    entities = []\n",
        "    for ent in doc.ents:\n",
        "        entities.append({\n",
        "            \"entity_name\": ent.label_,\n",
        "            \"entity_value\": ent.text\n",
        "        })\n",
        "    task_3_output.append({\n",
        "        \"sentence\": sentence,\n",
        "        \"entities\": entities\n",
        "    })\n",
        "\n",
        "output = {\n",
        "    \"task_1_output\": trans_text,\n",
        "    \"task_3_output\": task_3_output\n",
        "}"
      ],
      "metadata": {
        "id": "-CVGcOcpki_C"
      },
      "execution_count": 41,
      "outputs": []
    },
    {
      "cell_type": "code",
      "source": [
        "import json\n",
        "with open(\"output.json\", \"w\") as outfile:\n",
        "    json.dump(output, outfile)\n"
      ],
      "metadata": {
        "id": "pkSG1fXTXP5F"
      },
      "execution_count": 42,
      "outputs": []
    },
    {
      "cell_type": "code",
      "source": [
        "file_path = \"output.json\"\n",
        "\n",
        "with open(file_path, \"r\") as file:\n",
        "    json_data = json.load(file)\n",
        "\n",
        "print(json_data)"
      ],
      "metadata": {
        "colab": {
          "base_uri": "https://localhost:8080/"
        },
        "id": "eVAZQd3TYXgp",
        "outputId": "0f911001-21d0-41eb-d10a-607413d4a80f"
      },
      "execution_count": 43,
      "outputs": [
        {
          "output_type": "stream",
          "name": "stdout",
          "text": [
            "{'task_1_output': \"Hello? Hi, Nancy. This is Mike from at and T, Inc. Yes, how can I help you? Nancy, you have been using our prepaid connection for a couple of years now, right? Yeah, that's right. How would you like a postpaid connection that allows you to make free, unlimited voice calls to three at and T numbers? I would love that, but what's the catch? There's no catch. There will be a monthly rental which you will have to pay like any other postpaid connection. Fantastic. Sign me up.\", 'task_3_output': [{'sentence': 'Hello?', 'entities': []}, {'sentence': 'Hi, Nancy.', 'entities': [{'entity_name': 'ORG', 'entity_value': 'Nancy.'}]}, {'sentence': 'This is Mike from at and T, Inc.', 'entities': [{'entity_name': 'ORG', 'entity_value': 'at and T, Inc.'}]}, {'sentence': 'Yes, how can I help you?', 'entities': [{'entity_name': 'caller_name', 'entity_value': 'Yes,'}]}, {'sentence': 'Nancy, you have been using our prepaid connection for a couple of years now, right?', 'entities': [{'entity_name': 'ORG', 'entity_value': 'Nancy,'}, {'entity_name': 'PRODUCT', 'entity_value': 'prepaid connection for'}]}, {'sentence': \"Yeah, that's right.\", 'entities': []}, {'sentence': 'How would you like a postpaid connection that allows you to make free, unlimited voice calls to three at and T numbers?', 'entities': [{'entity_name': 'PRODUCT', 'entity_value': 'postpaid connection that'}, {'entity_name': 'ORG', 'entity_value': 'at and T numbers?'}]}, {'sentence': \"I would love that, but what's the catch?\", 'entities': []}, {'sentence': \"There's no catch.\", 'entities': [{'entity_name': 'ORG', 'entity_value': \"There's\"}]}, {'sentence': 'There will be a monthly rental which you will have to pay like any other postpaid connection.', 'entities': [{'entity_name': 'ORG', 'entity_value': 'There will'}, {'entity_name': 'caller_name', 'entity_value': 'pay like'}, {'entity_name': 'PRODUCT', 'entity_value': 'postpaid connection.'}]}, {'sentence': 'Fantastic.', 'entities': [{'entity_name': 'caller_name', 'entity_value': 'Fantastic.'}]}, {'sentence': 'Sign me up.', 'entities': []}]}\n"
          ]
        }
      ]
    }
  ]
}