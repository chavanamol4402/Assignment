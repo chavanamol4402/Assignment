{
  "nbformat": 4,
  "nbformat_minor": 0,
  "metadata": {
    "colab": {
      "provenance": [],
      "authorship_tag": "ABX9TyNir6rGD/cNrWNJceJj9+Fo",
      "include_colab_link": true
    },
    "kernelspec": {
      "name": "python3",
      "display_name": "Python 3"
    },
    "language_info": {
      "name": "python"
    }
  },
  "cells": [
    {
      "cell_type": "markdown",
      "metadata": {
        "id": "view-in-github",
        "colab_type": "text"
      },
      "source": [
        "<a href=\"https://colab.research.google.com/github/chavanamol4402/Assignment/blob/main/Assignment.ipynb\" target=\"_parent\"><img src=\"https://colab.research.google.com/assets/colab-badge.svg\" alt=\"Open In Colab\"/></a>"
      ]
    },
    {
      "cell_type": "code",
      "source": [
        " import speech_recognition as sr"
      ],
      "metadata": {
        "id": "JqeZDnWDUxmN"
      },
      "execution_count": 1,
      "outputs": []
    },
    {
      "cell_type": "code",
      "source": [
        "def transcribe_audio(audio_file):\n",
        "   \n",
        "    r = sr.Recognizer()\n",
        "\n",
        "    \n",
        "    with sr.AudioFile(audio_file) as source:\n",
        "                \n",
        "        audio = r.record(source)\n",
        "\n",
        "    try:\n",
        "        text = r.recognize_google(audio)\n",
        "        return text\n",
        "    except sr.UnknownValueError:\n",
        "        print(\"Could not understand the audio.\")\n",
        "    except sr.RequestError as e:\n",
        "        print(f\"Could not request results from Google Speech Recognition service; {e}\")\n"
      ],
      "metadata": {
        "id": "9xfFE6kBUx8q"
      },
      "execution_count": 2,
      "outputs": []
    },
    {
      "cell_type": "code",
      "source": [
        "audio_file_path = \"/content/sales_call_telephone_marketers.wav\""
      ],
      "metadata": {
        "id": "8yNTVp9gUyI9"
      },
      "execution_count": 3,
      "outputs": []
    },
    {
      "cell_type": "code",
      "source": [
        "trans_text = transcribe_audio(audio_file_path)"
      ],
      "metadata": {
        "id": "h_FlubdVUyWW"
      },
      "execution_count": 4,
      "outputs": []
    },
    {
      "cell_type": "code",
      "source": [
        "print(trans_text)"
      ],
      "metadata": {
        "colab": {
          "base_uri": "https://localhost:8080/"
        },
        "id": "0YO06DJSUzGW",
        "outputId": "9e8e7ef0-44d2-4604-a9d6-448f7c2f1514"
      },
      "execution_count": 5,
      "outputs": [
        {
          "output_type": "stream",
          "name": "stdout",
          "text": [
            "hello hi Nancy this is Mike from AT&T incorporation yes how can I help you Nancy you have been using our prepaid connection for a couple of years now right yeah that's right how would you like a connection that allows you to make free unlimited voice calls to three AT&T numbers I would love that but what's the catch there's no catch there will be a month\n"
          ]
        }
      ]
    },
    {
      "cell_type": "code",
      "source": [
        "import spacy\n",
        "import random\n",
        "from spacy.training import Example\n",
        "\n",
        "# Prepare your training data\n",
        "TRAINING_DATA = [\n",
        "    (\"My name is Jeff and I am calling from Amazon.\", {\"entities\": [(11, 15, \"caller_name\"), (34, 40, \"ORG\")]}),\n",
        "    (\"I am calling from Microsoft and my name is Satya.\", {\"entities\": [(17, 26, \"ORG\"), (42, 47, \"caller_name\")]}),\n",
        "    (\"I am Sundar and this is a call from Google.\", {\"entities\": [(5, 11, \"caller_name\"), (36, 42, \"ORG\")]}),\n",
        "    (\"I am calling about your Microsoft Azure subscription.\", {\"entities\": [(13, 31, \"caller_name\"), (37, 55, \"PRODUCT\")]}),\n",
        "    (\"This is a call regarding your Google Cloud Platform account.\", {\"entities\": [(21, 44, \"caller_name\"), (54, 74, \"PRODUCT\")]}),\n",
        "    (\"I am calling about your Google Cloud Platform account.\", {\"entities\": [(13, 31, \"caller_name\"), (37, 57, \"PRODUCT\")]}),\n",
        "    (\"I am Rajesh and this is a call from AT&T.\", {\"entities\": [(5, 11, \"caller_name\"), (36, 40, \"ORG\")]}),\n",
        "    (\"My name is John and I am calling from Sansui.\", {\"entities\": [(11, 15, \"caller_name\"), (34, 40, \"ORG\")]}),\n",
        "    (\"I am calling from Microsoft and my name is Vishal.\", {\"entities\": [(17, 26, \"ORG\"), (42, 47, \"caller_name\")]}),\n",
        "    (\"I am Daniel and this is a call from Jaguar.\", {\"entities\": [(5, 11, \"caller_name\"), (31, 37, \"ORG\")]}),\n",
        "    (\"I am calling about your Microsoft Azure subscription.\", {\"entities\": [(13, 31, \"caller_name\"), (37, 55, \"PRODUCT\")]}),\n",
        "    (\"This is a call regarding your Google Cloud Platform account.\", {\"entities\": [(21, 44, \"caller_name\"), (54, 74, \"PRODUCT\")]}),\n",
        "    (\"I am calling about your Google Cloud Platform account.\", {\"entities\": [(13, 31, \"caller_name\"), (37, 57, \"PRODUCT\")]}),\n",
        "    (\"I am Mahesh and this is a call from AT&T.\", {\"entities\": [(5, 11, \"caller_name\"), (36, 40, \"ORG\")]}),\n",
        "]\n",
        "\n"
      ],
      "metadata": {
        "id": "Vp91xO9Kf2UR"
      },
      "execution_count": 18,
      "outputs": []
    },
    {
      "cell_type": "code",
      "source": [
        "\n",
        "LABELS = [\"caller_name\", \"ORG\", \"PRODUCT\"]\n"
      ],
      "metadata": {
        "id": "275P3YzCf3KL"
      },
      "execution_count": 7,
      "outputs": []
    },
    {
      "cell_type": "code",
      "source": [
        "def train_ner_model(training_data, labels, iterations=30):\n",
        "    # Load the base model\n",
        "    nlp = spacy.load(\"en_core_web_sm\")\n",
        "\n",
        "    # Create the NER component if it doesn't exist\n",
        "    if \"ner\" not in nlp.pipe_names:\n",
        "        ner = nlp.create_pipe(\"ner\")\n",
        "        nlp.add_pipe(ner, last=True)\n",
        "    else:\n",
        "        ner = nlp.get_pipe(\"ner\")\n",
        "\n",
        "    # Add the entity labels to the NER model\n",
        "    for label in labels:\n",
        "        ner.add_label(label)\n",
        "\n",
        "    # Disable other pipeline components\n",
        "    other_pipes = [pipe for pipe in nlp.pipe_names if pipe != \"ner\"]\n",
        "    with nlp.disable_pipes(*other_pipes):\n",
        "        # Initialize the optimizer\n",
        "        optimizer = nlp.initialize()\n",
        "\n",
        "        # Train the NER model\n",
        "        for _ in range(iterations):\n",
        "            random.shuffle(training_data)\n",
        "            losses = {}\n",
        "            for text, annotations in training_data:\n",
        "                doc = nlp.make_doc(text)\n",
        "                example = Example.from_dict(doc, annotations)\n",
        "                nlp.update([example], drop=0.5, sgd=optimizer, losses=losses)\n",
        "\n",
        "    # Save the trained NER model\n",
        "    output_dir = \"/content/trained_ner_model\"  # Change this path as needed\n",
        "    nlp.to_disk(output_dir)\n"
      ],
      "metadata": {
        "id": "GhnKiSlGf3nS"
      },
      "execution_count": 19,
      "outputs": []
    },
    {
      "cell_type": "code",
      "source": [
        "# Train the NER model\n",
        "train_ner_model(TRAINING_DATA, LABELS)"
      ],
      "metadata": {
        "id": "Z3pqcU2wf4BT"
      },
      "execution_count": 28,
      "outputs": []
    },
    {
      "cell_type": "code",
      "source": [
        "nlp = spacy.load(\"trained_ner_model\")"
      ],
      "metadata": {
        "id": "7rpv7N-pqqC6"
      },
      "execution_count": 29,
      "outputs": []
    },
    {
      "cell_type": "code",
      "source": [
        "doc = nlp(trans_text)"
      ],
      "metadata": {
        "id": "PD5V0oAasvVX"
      },
      "execution_count": 30,
      "outputs": []
    },
    {
      "cell_type": "code",
      "source": [
        "for ent in doc.ents:\n",
        "    print(ent.text, ent.label_)"
      ],
      "metadata": {
        "colab": {
          "base_uri": "https://localhost:8080/"
        },
        "id": "fvB14G6Ys0sb",
        "outputId": "536d77a6-c817-4b30-eb58-fa82e4fefbc5"
      },
      "execution_count": 31,
      "outputs": [
        {
          "output_type": "stream",
          "name": "stdout",
          "text": [
            "Nancy ORG\n",
            "Nancy caller_name\n",
            "'s caller_name\n"
          ]
        }
      ]
    }
  ]
}